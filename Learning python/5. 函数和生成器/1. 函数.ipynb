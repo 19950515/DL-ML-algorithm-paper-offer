{
 "cells": [
  {
   "cell_type": "markdown",
   "metadata": {},
   "source": [
    "[B1P475]\n",
    "- def 是可执行的代码，在 Python 运行 def 之前，函数并不存在。def 创建了一个对象，并将其赋值给了某一变量名，函数名变成了一个函数对象的引用。\n",
    "    由于 def 是一个语句，所以可以出现在任何地方，不如敲套在 while 中，或者在 def 中嵌套 def.\n",
    "    如："
   ]
  },
  {
   "cell_type": "code",
   "execution_count": 10,
   "metadata": {},
   "outputs": [],
   "source": [
    "if True:\n",
    "    def func():\n",
    "        pass\n",
    "else:\n",
    "    def func():\n",
    "        pass\n",
    "    \n",
    "# 函数是运行时才被定义的，函数名并没后什么特别之处，关键在于函数名所引起的那个对象。[B1P477]"
   ]
  },
  {
   "cell_type": "markdown",
   "metadata": {},
   "source": [
    "### 多态"
   ]
  },
  {
   "cell_type": "code",
   "execution_count": 11,
   "metadata": {},
   "outputs": [],
   "source": [
    "def times(x, y):\n",
    "    return x * y\n",
    "# times 函数中表达式 x * y 的意义完全取决于 x 和 y 的对象类型，\n",
    "# 同样的函数，在一种对象下执行的是乘法(3 * 3)，在另一种对象下执行的确实重复（‘a’ * 3）\n",
    "# Python 把对某一对象在某种语法下的合理性交给那个对象自身来判断，* 作为一个分派机制，将执行的控制权移交给被处理的对象。\n",
    "# 这种依赖类型的行为称为多态。其含义就是一个操作的意义取决于被操作对象的类型。"
   ]
  },
  {
   "cell_type": "code",
   "execution_count": null,
   "metadata": {},
   "outputs": [],
   "source": []
  }
 ],
 "metadata": {
  "kernelspec": {
   "display_name": "Python 3",
   "language": "python",
   "name": "python3"
  },
  "language_info": {
   "codemirror_mode": {
    "name": "ipython",
    "version": 3
   },
   "file_extension": ".py",
   "mimetype": "text/x-python",
   "name": "python",
   "nbconvert_exporter": "python",
   "pygments_lexer": "ipython3",
   "version": "3.5.6"
  }
 },
 "nbformat": 4,
 "nbformat_minor": 2
}
